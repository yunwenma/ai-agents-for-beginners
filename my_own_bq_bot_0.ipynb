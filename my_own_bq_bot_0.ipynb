{
 "cells": [
  {
   "cell_type": "markdown",
   "metadata": {},
   "source": [
    "# Semantic Kernel Tool Use Example\n",
    "\n",
    "This document provides an overview and explanation of the code used to create a Semantic Kernel-based tool that integrates with ChromaDB for Retrieval-Augmented Generation (RAG). The example demonstrates how to build an AI agent that retrieves travel documents from a ChromaDB collection, augments user queries with semantic search results, and streams detailed travel recommendations."
   ]
  },
  {
   "cell_type": "markdown",
   "metadata": {},
   "source": [
    "## Initializing the Environment"
   ]
  },
  {
   "cell_type": "markdown",
   "metadata": {},
   "source": [
    "SQLite Version Fix\n",
    "If you encounter the error:\n",
    "```\n",
    "RuntimeError: Your system has an unsupported version of sqlite3. Chroma requires sqlite3 >= 3.35.0\n",
    "```\n",
    "\n",
    "Uncomment this code block at the start of your notebook:"
   ]
  },
  {
   "cell_type": "code",
   "execution_count": 10,
   "metadata": {},
   "outputs": [
    {
     "ename": "WebDriverException",
     "evalue": "Message: unknown error: no chrome binary at /usr/bin/chromium-browser\nStacktrace:\n#0 0x5c33636394e3 <unknown>\n#1 0x5c3363368c76 <unknown>\n#2 0x5c336338f5e0 <unknown>\n#3 0x5c336338e029 <unknown>\n#4 0x5c33633ccccc <unknown>\n#5 0x5c33633cc47f <unknown>\n#6 0x5c33633c3de3 <unknown>\n#7 0x5c33633992dd <unknown>\n#8 0x5c336339a34e <unknown>\n#9 0x5c33635f93e4 <unknown>\n#10 0x5c33635fd3d7 <unknown>\n#11 0x5c3363607b20 <unknown>\n#12 0x5c33635fe023 <unknown>\n#13 0x5c33635cc1aa <unknown>\n#14 0x5c33636226b8 <unknown>\n#15 0x5c3363622847 <unknown>\n#16 0x5c3363632243 <unknown>\n#17 0x78812ceaa1f5 <unknown>\n",
     "output_type": "error",
     "traceback": [
      "\u001b[31m---------------------------------------------------------------------------\u001b[39m",
      "\u001b[31mWebDriverException\u001b[39m                        Traceback (most recent call last)",
      "\u001b[36mCell\u001b[39m\u001b[36m \u001b[39m\u001b[32mIn[10]\u001b[39m\u001b[32m, line 15\u001b[39m\n\u001b[32m     12\u001b[39m options.binary_location = \u001b[33m\"\u001b[39m\u001b[33m/usr/bin/chromium-browser\u001b[39m\u001b[33m\"\u001b[39m  \u001b[38;5;66;03m# 指定 Chromium 路径\u001b[39;00m\n\u001b[32m     14\u001b[39m \u001b[38;5;66;03m# 初始化 WebDriver\u001b[39;00m\n\u001b[32m---> \u001b[39m\u001b[32m15\u001b[39m driver = \u001b[43mwebdriver\u001b[49m\u001b[43m.\u001b[49m\u001b[43mChrome\u001b[49m\u001b[43m(\u001b[49m\u001b[43mservice\u001b[49m\u001b[43m=\u001b[49m\u001b[43mService\u001b[49m\u001b[43m(\u001b[49m\u001b[43mChromeDriverManager\u001b[49m\u001b[43m(\u001b[49m\u001b[43m)\u001b[49m\u001b[43m.\u001b[49m\u001b[43minstall\u001b[49m\u001b[43m(\u001b[49m\u001b[43m)\u001b[49m\u001b[43m)\u001b[49m\u001b[43m,\u001b[49m\u001b[43m \u001b[49m\u001b[43moptions\u001b[49m\u001b[43m=\u001b[49m\u001b[43moptions\u001b[49m\u001b[43m)\u001b[49m\n\u001b[32m     17\u001b[39m \u001b[38;5;66;03m# 访问某一楼层\u001b[39;00m\n\u001b[32m     18\u001b[39m url = \u001b[33m\"\u001b[39m\u001b[33mhttps://www.uscardforum.com/t/topic/109417/389\u001b[39m\u001b[33m\"\u001b[39m\n",
      "\u001b[36mFile \u001b[39m\u001b[32m~/.local/lib/python3.13/site-packages/selenium/webdriver/chrome/webdriver.py:47\u001b[39m, in \u001b[36mWebDriver.__init__\u001b[39m\u001b[34m(self, options, service, keep_alive)\u001b[39m\n\u001b[32m     44\u001b[39m service = service \u001b[38;5;28;01mif\u001b[39;00m service \u001b[38;5;28;01melse\u001b[39;00m Service()\n\u001b[32m     45\u001b[39m options = options \u001b[38;5;28;01mif\u001b[39;00m options \u001b[38;5;28;01melse\u001b[39;00m Options()\n\u001b[32m---> \u001b[39m\u001b[32m47\u001b[39m \u001b[38;5;28;43msuper\u001b[39;49m\u001b[43m(\u001b[49m\u001b[43m)\u001b[49m\u001b[43m.\u001b[49m\u001b[34;43m__init__\u001b[39;49m\u001b[43m(\u001b[49m\n\u001b[32m     48\u001b[39m \u001b[43m    \u001b[49m\u001b[43mbrowser_name\u001b[49m\u001b[43m=\u001b[49m\u001b[43mDesiredCapabilities\u001b[49m\u001b[43m.\u001b[49m\u001b[43mCHROME\u001b[49m\u001b[43m[\u001b[49m\u001b[33;43m\"\u001b[39;49m\u001b[33;43mbrowserName\u001b[39;49m\u001b[33;43m\"\u001b[39;49m\u001b[43m]\u001b[49m\u001b[43m,\u001b[49m\n\u001b[32m     49\u001b[39m \u001b[43m    \u001b[49m\u001b[43mvendor_prefix\u001b[49m\u001b[43m=\u001b[49m\u001b[33;43m\"\u001b[39;49m\u001b[33;43mgoog\u001b[39;49m\u001b[33;43m\"\u001b[39;49m\u001b[43m,\u001b[49m\n\u001b[32m     50\u001b[39m \u001b[43m    \u001b[49m\u001b[43moptions\u001b[49m\u001b[43m=\u001b[49m\u001b[43moptions\u001b[49m\u001b[43m,\u001b[49m\n\u001b[32m     51\u001b[39m \u001b[43m    \u001b[49m\u001b[43mservice\u001b[49m\u001b[43m=\u001b[49m\u001b[43mservice\u001b[49m\u001b[43m,\u001b[49m\n\u001b[32m     52\u001b[39m \u001b[43m    \u001b[49m\u001b[43mkeep_alive\u001b[49m\u001b[43m=\u001b[49m\u001b[43mkeep_alive\u001b[49m\u001b[43m,\u001b[49m\n\u001b[32m     53\u001b[39m \u001b[43m\u001b[49m\u001b[43m)\u001b[49m\n",
      "\u001b[36mFile \u001b[39m\u001b[32m~/.local/lib/python3.13/site-packages/selenium/webdriver/chromium/webdriver.py:69\u001b[39m, in \u001b[36mChromiumDriver.__init__\u001b[39m\u001b[34m(self, browser_name, vendor_prefix, options, service, keep_alive)\u001b[39m\n\u001b[32m     60\u001b[39m executor = ChromiumRemoteConnection(\n\u001b[32m     61\u001b[39m     remote_server_addr=\u001b[38;5;28mself\u001b[39m.service.service_url,\n\u001b[32m     62\u001b[39m     browser_name=browser_name,\n\u001b[32m   (...)\u001b[39m\u001b[32m     65\u001b[39m     ignore_proxy=options._ignore_local_proxy,\n\u001b[32m     66\u001b[39m )\n\u001b[32m     68\u001b[39m \u001b[38;5;28;01mtry\u001b[39;00m:\n\u001b[32m---> \u001b[39m\u001b[32m69\u001b[39m     \u001b[38;5;28;43msuper\u001b[39;49m\u001b[43m(\u001b[49m\u001b[43m)\u001b[49m\u001b[43m.\u001b[49m\u001b[34;43m__init__\u001b[39;49m\u001b[43m(\u001b[49m\u001b[43mcommand_executor\u001b[49m\u001b[43m=\u001b[49m\u001b[43mexecutor\u001b[49m\u001b[43m,\u001b[49m\u001b[43m \u001b[49m\u001b[43moptions\u001b[49m\u001b[43m=\u001b[49m\u001b[43moptions\u001b[49m\u001b[43m)\u001b[49m\n\u001b[32m     70\u001b[39m \u001b[38;5;28;01mexcept\u001b[39;00m \u001b[38;5;167;01mException\u001b[39;00m:\n\u001b[32m     71\u001b[39m     \u001b[38;5;28mself\u001b[39m.quit()\n",
      "\u001b[36mFile \u001b[39m\u001b[32m~/.local/lib/python3.13/site-packages/selenium/webdriver/remote/webdriver.py:257\u001b[39m, in \u001b[36mWebDriver.__init__\u001b[39m\u001b[34m(self, command_executor, keep_alive, file_detector, options, locator_converter, web_element_cls, client_config)\u001b[39m\n\u001b[32m    255\u001b[39m \u001b[38;5;28mself\u001b[39m._authenticator_id = \u001b[38;5;28;01mNone\u001b[39;00m\n\u001b[32m    256\u001b[39m \u001b[38;5;28mself\u001b[39m.start_client()\n\u001b[32m--> \u001b[39m\u001b[32m257\u001b[39m \u001b[38;5;28;43mself\u001b[39;49m\u001b[43m.\u001b[49m\u001b[43mstart_session\u001b[49m\u001b[43m(\u001b[49m\u001b[43mcapabilities\u001b[49m\u001b[43m)\u001b[49m\n\u001b[32m    258\u001b[39m \u001b[38;5;28mself\u001b[39m._fedcm = FedCM(\u001b[38;5;28mself\u001b[39m)\n\u001b[32m    260\u001b[39m \u001b[38;5;28mself\u001b[39m._websocket_connection = \u001b[38;5;28;01mNone\u001b[39;00m\n",
      "\u001b[36mFile \u001b[39m\u001b[32m~/.local/lib/python3.13/site-packages/selenium/webdriver/remote/webdriver.py:356\u001b[39m, in \u001b[36mWebDriver.start_session\u001b[39m\u001b[34m(self, capabilities)\u001b[39m\n\u001b[32m    354\u001b[39m caps = _create_caps(capabilities)\n\u001b[32m    355\u001b[39m \u001b[38;5;28;01mtry\u001b[39;00m:\n\u001b[32m--> \u001b[39m\u001b[32m356\u001b[39m     response = \u001b[38;5;28;43mself\u001b[39;49m\u001b[43m.\u001b[49m\u001b[43mexecute\u001b[49m\u001b[43m(\u001b[49m\u001b[43mCommand\u001b[49m\u001b[43m.\u001b[49m\u001b[43mNEW_SESSION\u001b[49m\u001b[43m,\u001b[49m\u001b[43m \u001b[49m\u001b[43mcaps\u001b[49m\u001b[43m)\u001b[49m[\u001b[33m\"\u001b[39m\u001b[33mvalue\u001b[39m\u001b[33m\"\u001b[39m]\n\u001b[32m    357\u001b[39m     \u001b[38;5;28mself\u001b[39m.session_id = response.get(\u001b[33m\"\u001b[39m\u001b[33msessionId\u001b[39m\u001b[33m\"\u001b[39m)\n\u001b[32m    358\u001b[39m     \u001b[38;5;28mself\u001b[39m.caps = response.get(\u001b[33m\"\u001b[39m\u001b[33mcapabilities\u001b[39m\u001b[33m\"\u001b[39m)\n",
      "\u001b[36mFile \u001b[39m\u001b[32m~/.local/lib/python3.13/site-packages/selenium/webdriver/remote/webdriver.py:447\u001b[39m, in \u001b[36mWebDriver.execute\u001b[39m\u001b[34m(self, driver_command, params)\u001b[39m\n\u001b[32m    445\u001b[39m response = \u001b[38;5;28mself\u001b[39m.command_executor.execute(driver_command, params)\n\u001b[32m    446\u001b[39m \u001b[38;5;28;01mif\u001b[39;00m response:\n\u001b[32m--> \u001b[39m\u001b[32m447\u001b[39m     \u001b[38;5;28;43mself\u001b[39;49m\u001b[43m.\u001b[49m\u001b[43merror_handler\u001b[49m\u001b[43m.\u001b[49m\u001b[43mcheck_response\u001b[49m\u001b[43m(\u001b[49m\u001b[43mresponse\u001b[49m\u001b[43m)\u001b[49m\n\u001b[32m    448\u001b[39m     response[\u001b[33m\"\u001b[39m\u001b[33mvalue\u001b[39m\u001b[33m\"\u001b[39m] = \u001b[38;5;28mself\u001b[39m._unwrap_value(response.get(\u001b[33m\"\u001b[39m\u001b[33mvalue\u001b[39m\u001b[33m\"\u001b[39m, \u001b[38;5;28;01mNone\u001b[39;00m))\n\u001b[32m    449\u001b[39m     \u001b[38;5;28;01mreturn\u001b[39;00m response\n",
      "\u001b[36mFile \u001b[39m\u001b[32m~/.local/lib/python3.13/site-packages/selenium/webdriver/remote/errorhandler.py:232\u001b[39m, in \u001b[36mErrorHandler.check_response\u001b[39m\u001b[34m(self, response)\u001b[39m\n\u001b[32m    230\u001b[39m         alert_text = value[\u001b[33m\"\u001b[39m\u001b[33malert\u001b[39m\u001b[33m\"\u001b[39m].get(\u001b[33m\"\u001b[39m\u001b[33mtext\u001b[39m\u001b[33m\"\u001b[39m)\n\u001b[32m    231\u001b[39m     \u001b[38;5;28;01mraise\u001b[39;00m exception_class(message, screen, stacktrace, alert_text)  \u001b[38;5;66;03m# type: ignore[call-arg]  # mypy is not smart enough here\u001b[39;00m\n\u001b[32m--> \u001b[39m\u001b[32m232\u001b[39m \u001b[38;5;28;01mraise\u001b[39;00m exception_class(message, screen, stacktrace)\n",
      "\u001b[31mWebDriverException\u001b[39m: Message: unknown error: no chrome binary at /usr/bin/chromium-browser\nStacktrace:\n#0 0x5c33636394e3 <unknown>\n#1 0x5c3363368c76 <unknown>\n#2 0x5c336338f5e0 <unknown>\n#3 0x5c336338e029 <unknown>\n#4 0x5c33633ccccc <unknown>\n#5 0x5c33633cc47f <unknown>\n#6 0x5c33633c3de3 <unknown>\n#7 0x5c33633992dd <unknown>\n#8 0x5c336339a34e <unknown>\n#9 0x5c33635f93e4 <unknown>\n#10 0x5c33635fd3d7 <unknown>\n#11 0x5c3363607b20 <unknown>\n#12 0x5c33635fe023 <unknown>\n#13 0x5c33635cc1aa <unknown>\n#14 0x5c33636226b8 <unknown>\n#15 0x5c3363622847 <unknown>\n#16 0x5c3363632243 <unknown>\n#17 0x78812ceaa1f5 <unknown>\n"
     ]
    }
   ],
   "source": [
    "from selenium import webdriver\n",
    "from selenium.webdriver.chrome.service import Service\n",
    "from selenium.webdriver.common.by import By\n",
    "from webdriver_manager.chrome import ChromeDriverManager\n",
    "import time\n",
    "\n",
    "# 设置 Chrome 为 headless 模式\n",
    "options = webdriver.ChromeOptions()\n",
    "options.add_argument('--headless')  # 无头模式\n",
    "options.add_argument('--no-sandbox')\n",
    "options.add_argument('--disable-dev-shm-usage')\n",
    "options.binary_location = \"/usr/bin/chromium-browser\"  # 指定 Chromium 路径\n",
    "\n",
    "# 初始化 WebDriver\n",
    "driver = webdriver.Chrome(service=Service(ChromeDriverManager().install()), options=options)\n",
    "\n",
    "# 访问某一楼层\n",
    "url = \"https://www.uscardforum.com/t/topic/109417/389\"\n",
    "driver.get(url)\n",
    "\n",
    "# 等待加载\n",
    "time.sleep(3)\n",
    "\n",
    "# 获取页面中所有楼层内容（简化提取）\n",
    "posts = driver.find_elements(By.CLASS_NAME, \"cooked\")\n",
    "for i, post in enumerate(posts):\n",
    "    print(f\"\\n--- 第 {i+1} 个楼层内容 ---\\n{post.text[:500]}\")\n",
    "\n",
    "driver.quit()"
   ]
  },
  {
   "cell_type": "code",
   "execution_count": 34,
   "metadata": {},
   "outputs": [],
   "source": [
    "import requests\n",
    "\n",
    "def get_all_posts_from_discourse_thread(url: str):\n",
    "    if not url.endswith('.json'):\n",
    "        if url[-1] != '/':\n",
    "            url += '/'\n",
    "        url += '.json'\n",
    "\n",
    "    headers = {\n",
    "        \"User-Agent\": \"Mozilla/5.0 (Windows NT 10.0; Win64; x64) AppleWebKit/537.36 \"\n",
    "                      \"(KHTML, like Gecko) Chrome/114.0.0.0 Safari/537.36\"\n",
    "    }\n",
    "\n",
    "    response = requests.get(url, headers=headers)\n",
    "    if response.status_code != 200:\n",
    "        raise Exception(f\"请求失败：{response.status_code}\")\n",
    "    \n",
    "    data = response.json()\n",
    "    posts = data['post_stream']['posts']\n",
    "    all_posts = []\n",
    "\n",
    "    for post in posts:\n",
    "        floor = post['post_number']\n",
    "        username = post['username']\n",
    "        content = post['cooked']\n",
    "        text = clean_html(content)\n",
    "        all_posts.append({\n",
    "            \"floor\": floor,\n",
    "            \"user\": username,\n",
    "            \"text\": text\n",
    "        })\n",
    "\n",
    "    return all_posts\n",
    "\n",
    "from bs4 import BeautifulSoup\n",
    "\n",
    "def clean_html(raw_html):\n",
    "    \"\"\"\n",
    "    清除 HTML 标签，保留纯文本。\n",
    "    \"\"\"\n",
    "    soup = BeautifulSoup(raw_html, \"html.parser\")\n",
    "    return soup.get_text(separator=\"\\n\").strip()"
   ]
  },
  {
   "cell_type": "code",
   "execution_count": 35,
   "metadata": {},
   "outputs": [
    {
     "ename": "Exception",
     "evalue": "请求失败：403",
     "output_type": "error",
     "traceback": [
      "\u001b[31m---------------------------------------------------------------------------\u001b[39m",
      "\u001b[31mException\u001b[39m                                 Traceback (most recent call last)",
      "\u001b[36mCell\u001b[39m\u001b[36m \u001b[39m\u001b[32mIn[35]\u001b[39m\u001b[32m, line 2\u001b[39m\n\u001b[32m      1\u001b[39m url = \u001b[33m\"\u001b[39m\u001b[33mhttps://www.uscardforum.com/t/topic/109417\u001b[39m\u001b[33m\"\u001b[39m\n\u001b[32m----> \u001b[39m\u001b[32m2\u001b[39m forum_chunks = \u001b[43mget_all_posts_from_discourse_thread\u001b[49m\u001b[43m(\u001b[49m\u001b[43murl\u001b[49m\u001b[43m)\u001b[49m\n\u001b[32m      4\u001b[39m \u001b[38;5;66;03m# 快速预览前几楼\u001b[39;00m\n\u001b[32m      5\u001b[39m \u001b[38;5;28;01mfor\u001b[39;00m post \u001b[38;5;129;01min\u001b[39;00m forum_chunks[:\u001b[32m3\u001b[39m]:\n",
      "\u001b[36mCell\u001b[39m\u001b[36m \u001b[39m\u001b[32mIn[34]\u001b[39m\u001b[32m, line 16\u001b[39m, in \u001b[36mget_all_posts_from_discourse_thread\u001b[39m\u001b[34m(url)\u001b[39m\n\u001b[32m     14\u001b[39m response = requests.get(url, headers=headers)\n\u001b[32m     15\u001b[39m \u001b[38;5;28;01mif\u001b[39;00m response.status_code != \u001b[32m200\u001b[39m:\n\u001b[32m---> \u001b[39m\u001b[32m16\u001b[39m     \u001b[38;5;28;01mraise\u001b[39;00m \u001b[38;5;167;01mException\u001b[39;00m(\u001b[33mf\u001b[39m\u001b[33m\"\u001b[39m\u001b[33m请求失败：\u001b[39m\u001b[38;5;132;01m{\u001b[39;00mresponse.status_code\u001b[38;5;132;01m}\u001b[39;00m\u001b[33m\"\u001b[39m)\n\u001b[32m     18\u001b[39m data = response.json()\n\u001b[32m     19\u001b[39m posts = data[\u001b[33m'\u001b[39m\u001b[33mpost_stream\u001b[39m\u001b[33m'\u001b[39m][\u001b[33m'\u001b[39m\u001b[33mposts\u001b[39m\u001b[33m'\u001b[39m]\n",
      "\u001b[31mException\u001b[39m: 请求失败：403"
     ]
    }
   ],
   "source": [
    "url = \"https://www.uscardforum.com/t/topic/109417\"\n",
    "forum_chunks = get_all_posts_from_discourse_thread(url)\n",
    "\n",
    "# 快速预览前几楼\n",
    "for post in forum_chunks[:3]:\n",
    "    print(f\"{post['floor']}F - {post['user']}: {post['text'][:50]}...\")"
   ]
  },
  {
   "cell_type": "markdown",
   "metadata": {},
   "source": [
    "### Importing Packages\n",
    "The following code imports the necessary packages:"
   ]
  },
  {
   "cell_type": "code",
   "execution_count": 22,
   "metadata": {},
   "outputs": [],
   "source": [
    "# Step 1: Install dependencies (run this in a cell)\n",
    "# %pip install openai chromadb sentence-transformers\n",
    "\n",
    "import os\n",
    "from sentence_transformers import SentenceTransformer\n",
    "import chromadb\n",
    "from chromadb.utils import embedding_functions\n",
    "from openai import OpenAI, AsyncOpenAI\n",
    "\n",
    "from azure.ai.inference import ChatCompletionsClient\n",
    "from azure.ai.inference.models import SystemMessage, UserMessage\n",
    "from azure.core.credentials import AzureKeyCredential"
   ]
  },
  {
   "cell_type": "code",
   "execution_count": 2,
   "metadata": {},
   "outputs": [],
   "source": [
    "# Step 2: Prepare the document chunks (simulate a long forum post)\n",
    "forum_chunks = [\n",
    "    {\"floor\": 1, \"user\": \"楼主\", \"text\": \"大家好，我的电脑最近老是自动重启，怎么办？\"},\n",
    "    {\"floor\": 3, \"user\": \"Alice\", \"text\": \"可能是你的电源出了问题，建议检查一下插座。\"},\n",
    "    {\"floor\": 5, \"user\": \"Bob\", \"text\": \"我遇到过类似的问题，结果是 CPU 过热。\"},\n",
    "    {\"floor\": 8, \"user\": \"Charlie\", \"text\": \"你有没有在夏天开空调？我夏天开不了空调，电脑常死机。\"}\n",
    "]"
   ]
  },
  {
   "cell_type": "code",
   "execution_count": null,
   "metadata": {},
   "outputs": [],
   "source": [
    "# Step 3: Embed the documents using a multilingual model\n",
    "model = SentenceTransformer('paraphrase-multilingual-MiniLM-L12-v2')\n",
    "texts = [f\"{c['user']}({c['floor']}F): {c['text']}\" for c in forum_chunks]\n",
    "embeddings = model.encode(texts)"
   ]
  },
  {
   "cell_type": "code",
   "execution_count": 4,
   "metadata": {},
   "outputs": [],
   "source": [
    "# Step 4: Create and populate a ChromaDB collection\n",
    "client = chromadb.Client()\n",
    "collection = client.create_collection(name=\"forum\")\n",
    "for idx, (chunk, vector) in enumerate(zip(forum_chunks, embeddings)):\n",
    "    collection.add(\n",
    "        documents=[chunk['text']],\n",
    "        ids=[f\"chunk_{idx}\"],\n",
    "        embeddings=[vector],\n",
    "        metadatas=[{\"floor\": chunk['floor'], \"user\": chunk['user']}]\n",
    "    )"
   ]
  },
  {
   "cell_type": "code",
   "execution_count": 41,
   "metadata": {},
   "outputs": [],
   "source": [
    "# Step 5: Define a simple query function\n",
    "def get_completion(prompt, client, model_name, temperature=1.0, max_tokens=1000, top_p=1.0):\n",
    "    response = client.complete(\n",
    "        messages=[\n",
    "            {\n",
    "                \"role\": \"system\",\n",
    "                \"content\": \"You are a helpful assistant.\",\n",
    "            },\n",
    "            {\n",
    "                \"role\": \"user\",\n",
    "                \"content\": prompt,\n",
    "            },\n",
    "        ],\n",
    "        model=model_name,\n",
    "        temperature=temperature,\n",
    "        max_tokens=max_tokens,\n",
    "        top_p=top_p\n",
    "    )\n",
    "    return response.choices[0].message.content\n",
    "\n",
    "def query_agent(question: str):\n",
    "    token = os.environ[\"GITHUB_TOKEN\"]\n",
    "    endpoint = \"https://models.inference.ai.azure.com\"\n",
    "    model_name = \"gpt-4o\"\n",
    "    client = ChatCompletionsClient(\n",
    "    endpoint=endpoint,\n",
    "    credential=AzureKeyCredential(token),\n",
    ")\n",
    "    question_embedding = model.encode([question])[0]\n",
    "    results = collection.query(query_embeddings=[question_embedding], n_results=3)\n",
    "    context = \"\\n\".join([f\"{doc['user']}({doc['floor']}F): {doc['text']}\" \n",
    "                          for doc, meta in zip(forum_chunks, results['metadatas'][0]) \n",
    "                          if 'user' in meta])\n",
    "    prompt = f\"\"\"\n",
    "你是一个懂技术的论坛助手，请根据以下楼层内容回答用户问题。\n",
    "\n",
    "【帖子内容】\n",
    "{context}\n",
    "\n",
    "【用户提问】\n",
    "{question}\n",
    "\n",
    "【请简洁回答】\n",
    "\"\"\"\n",
    "    # Use OpenAI API to get an answer\n",
    "    response = get_completion(prompt, client, model_name)\n",
    "    # answer = response.choices[0].message['content']\n",
    "    print(results['metadatas'][0])\n",
    "    print(\"--- Prompt Sent to LLM ---\")\n",
    "    print(prompt)\n",
    "    print(\"--- LLM Answer ---\")\n",
    "    print(response)"
   ]
  },
  {
   "cell_type": "code",
   "execution_count": 42,
   "metadata": {},
   "outputs": [
    {
     "name": "stdout",
     "output_type": "stream",
     "text": [
      "[{'floor': 1, 'user': '楼主'}, {'floor': 5, 'user': 'Bob'}, {'floor': 3, 'user': 'Alice'}]\n",
      "--- Prompt Sent to LLM ---\n",
      "\n",
      "你是一个懂技术的论坛助手，请根据以下楼层内容回答用户问题。\n",
      "\n",
      "【帖子内容】\n",
      "楼主(1F): 大家好，我的电脑最近老是自动重启，怎么办？\n",
      "Alice(3F): 可能是你的电源出了问题，建议检查一下插座。\n",
      "Bob(5F): 我遇到过类似的问题，结果是 CPU 过热。\n",
      "\n",
      "【用户提问】\n",
      "为什么电脑会突然重启？\n",
      "\n",
      "【请简洁回答】\n",
      "\n",
      "--- LLM Answer ---\n",
      "电脑突然重启可能是以下原因：  \n",
      "1. **电源问题**：电源损坏或插座接触不良。  \n",
      "2. **硬件过热**：如 CPU 或显卡过热会触发自动保护重启。  \n",
      "3. **驱动或系统问题**：驱动冲突或系统崩溃可能导致重启。  \n",
      "建议按上述原因逐一检查并排除。\n"
     ]
    }
   ],
   "source": [
    "# Step 6: Run a sample query\n",
    "query_agent(\"为什么电脑会突然重启？\")"
   ]
  }
 ],
 "metadata": {
  "kernelspec": {
   "display_name": "Python 3",
   "language": "python",
   "name": "python3"
  },
  "language_info": {
   "codemirror_mode": {
    "name": "ipython",
    "version": 3
   },
   "file_extension": ".py",
   "mimetype": "text/x-python",
   "name": "python",
   "nbconvert_exporter": "python",
   "pygments_lexer": "ipython3",
   "version": "3.13.3"
  }
 },
 "nbformat": 4,
 "nbformat_minor": 2
}
