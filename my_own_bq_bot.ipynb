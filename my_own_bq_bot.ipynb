{
 "cells": [
  {
   "cell_type": "markdown",
   "metadata": {},
   "source": [
    "### Importing Packages\n",
    "The following code imports the necessary packages:"
   ]
  },
  {
   "cell_type": "code",
   "execution_count": 22,
   "metadata": {},
   "outputs": [],
   "source": [
    "# Step 1: Install dependencies (run this in a cell)\n",
    "# %pip install openai chromadb sentence-transformers\n",
    "\n",
    "import os\n",
    "from sentence_transformers import SentenceTransformer\n",
    "import chromadb\n",
    "from chromadb.utils import embedding_functions\n",
    "from openai import OpenAI, AsyncOpenAI\n",
    "\n",
    "from azure.ai.inference import ChatCompletionsClient\n",
    "from azure.ai.inference.models import SystemMessage, UserMessage\n",
    "from azure.core.credentials import AzureKeyCredential"
   ]
  },
  {
   "cell_type": "code",
   "execution_count": 2,
   "metadata": {},
   "outputs": [],
   "source": [
    "# Step 2: Prepare the document chunks (simulate a long forum post)\n",
    "forum_chunks = [\n",
    "    {\"floor\": 1, \"user\": \"楼主\", \"text\": \"大家好，我的电脑最近老是自动重启，怎么办？\"},\n",
    "    {\"floor\": 3, \"user\": \"Alice\", \"text\": \"可能是你的电源出了问题，建议检查一下插座。\"},\n",
    "    {\"floor\": 5, \"user\": \"Bob\", \"text\": \"我遇到过类似的问题，结果是 CPU 过热。\"},\n",
    "    {\"floor\": 8, \"user\": \"Charlie\", \"text\": \"你有没有在夏天开空调？我夏天开不了空调，电脑常死机。\"}\n",
    "]"
   ]
  },
  {
   "cell_type": "code",
   "execution_count": null,
   "metadata": {},
   "outputs": [],
   "source": [
    "# Step 3: Embed the documents using a multilingual model\n",
    "model = SentenceTransformer('paraphrase-multilingual-MiniLM-L12-v2')\n",
    "texts = [f\"{c['user']}({c['floor']}F): {c['text']}\" for c in forum_chunks]\n",
    "embeddings = model.encode(texts)"
   ]
  },
  {
   "cell_type": "code",
   "execution_count": 4,
   "metadata": {},
   "outputs": [],
   "source": [
    "# Step 4: Create and populate a ChromaDB collection\n",
    "client = chromadb.Client()\n",
    "collection = client.create_collection(name=\"forum\")\n",
    "for idx, (chunk, vector) in enumerate(zip(forum_chunks, embeddings)):\n",
    "    collection.add(\n",
    "        documents=[chunk['text']],\n",
    "        ids=[f\"chunk_{idx}\"],\n",
    "        embeddings=[vector],\n",
    "        metadatas=[{\"floor\": chunk['floor'], \"user\": chunk['user']}]\n",
    "    )"
   ]
  },
  {
   "cell_type": "code",
   "execution_count": 41,
   "metadata": {},
   "outputs": [],
   "source": [
    "# Step 5: Define a simple query function\n",
    "def get_completion(prompt, client, model_name, temperature=1.0, max_tokens=1000, top_p=1.0):\n",
    "    response = client.complete(\n",
    "        messages=[\n",
    "            {\n",
    "                \"role\": \"system\",\n",
    "                \"content\": \"You are a helpful assistant.\",\n",
    "            },\n",
    "            {\n",
    "                \"role\": \"user\",\n",
    "                \"content\": prompt,\n",
    "            },\n",
    "        ],\n",
    "        model=model_name,\n",
    "        temperature=temperature,\n",
    "        max_tokens=max_tokens,\n",
    "        top_p=top_p\n",
    "    )\n",
    "    return response.choices[0].message.content\n",
    "\n",
    "def query_agent(question: str):\n",
    "    token = os.environ[\"GITHUB_TOKEN\"]\n",
    "    endpoint = \"https://models.inference.ai.azure.com\"\n",
    "    model_name = \"gpt-4o\"\n",
    "    client = ChatCompletionsClient(\n",
    "    endpoint=endpoint,\n",
    "    credential=AzureKeyCredential(token),\n",
    ")\n",
    "    question_embedding = model.encode([question])[0]\n",
    "    results = collection.query(query_embeddings=[question_embedding], n_results=3)\n",
    "    context = \"\\n\".join([f\"{doc['user']}({doc['floor']}F): {doc['text']}\" \n",
    "                          for doc, meta in zip(forum_chunks, results['metadatas'][0]) \n",
    "                          if 'user' in meta])\n",
    "    prompt = f\"\"\"\n",
    "你是一个懂技术的论坛助手，请根据以下楼层内容回答用户问题。\n",
    "\n",
    "【帖子内容】\n",
    "{context}\n",
    "\n",
    "【用户提问】\n",
    "{question}\n",
    "\n",
    "【请简洁回答】\n",
    "\"\"\"\n",
    "    # Use OpenAI API to get an answer\n",
    "    response = get_completion(prompt, client, model_name)\n",
    "    # answer = response.choices[0].message['content']\n",
    "    print(results['metadatas'][0])\n",
    "    print(\"--- Prompt Sent to LLM ---\")\n",
    "    print(prompt)\n",
    "    print(\"--- LLM Answer ---\")\n",
    "    print(response)"
   ]
  },
  {
   "cell_type": "code",
   "execution_count": 42,
   "metadata": {},
   "outputs": [
    {
     "name": "stdout",
     "output_type": "stream",
     "text": [
      "[{'floor': 1, 'user': '楼主'}, {'floor': 5, 'user': 'Bob'}, {'floor': 3, 'user': 'Alice'}]\n",
      "--- Prompt Sent to LLM ---\n",
      "\n",
      "你是一个懂技术的论坛助手，请根据以下楼层内容回答用户问题。\n",
      "\n",
      "【帖子内容】\n",
      "楼主(1F): 大家好，我的电脑最近老是自动重启，怎么办？\n",
      "Alice(3F): 可能是你的电源出了问题，建议检查一下插座。\n",
      "Bob(5F): 我遇到过类似的问题，结果是 CPU 过热。\n",
      "\n",
      "【用户提问】\n",
      "为什么电脑会突然重启？\n",
      "\n",
      "【请简洁回答】\n",
      "\n",
      "--- LLM Answer ---\n",
      "电脑突然重启可能是以下原因：  \n",
      "1. **电源问题**：电源损坏或插座接触不良。  \n",
      "2. **硬件过热**：如 CPU 或显卡过热会触发自动保护重启。  \n",
      "3. **驱动或系统问题**：驱动冲突或系统崩溃可能导致重启。  \n",
      "建议按上述原因逐一检查并排除。\n"
     ]
    }
   ],
   "source": [
    "# Step 6: Run a sample query\n",
    "query_agent(\"为什么电脑会突然重启？\")"
   ]
  },
  {
   "cell_type": "markdown",
   "metadata": {},
   "source": [
    "# Behavioral Interview Answer Optimizer"
   ]
  },
  {
   "cell_type": "code",
   "execution_count": null,
   "metadata": {},
   "outputs": [],
   "source": [
    "# Step 1: Install dependencies (already available in GitHub Codespaces)\n",
    "# If needed: !pip install openai\n",
    "import os\n",
    "import openai\n",
    "\n",
    "from azure.ai.inference import ChatCompletionsClient\n",
    "from azure.ai.inference.models import SystemMessage, UserMessage\n",
    "from azure.core.credentials import AzureKeyCredential"
   ]
  },
  {
   "cell_type": "code",
   "execution_count": null,
   "metadata": {},
   "outputs": [],
   "source": [
    "# Step 2: Set up your OpenAI API key (use GitHub Codespaces secret or set manually)\n",
    "# openai.api_key = os.getenv(\"OPENAI_API_KEY\") or \"your-openai-api-key-here\"  # Replace as needed\n",
    "\n",
    "token = os.environ[\"GITHUB_TOKEN\"]\n",
    "endpoint = \"https://models.inference.ai.azure.com\"\n",
    "model_name = \"gpt-4o\"\n",
    "client = ChatCompletionsClient(endpoint=endpoint, credential=AzureKeyCredential(token))"
   ]
  },
  {
   "cell_type": "code",
   "execution_count": null,
   "metadata": {},
   "outputs": [],
   "source": [
    "# Step 3: Define the prompt template to evaluate behavioral answers\n",
    "def build_prompt(question, answer):\n",
    "    return f\"\"\"\n",
    "You are an experienced technical interviewer evaluating a candidate for a senior or staff-level position (L5-L6) in the tech industry. Your task is to analyze the candidate's behavioral interview response with high expectations for leadership, cross-functional coordination, strategic thinking, and measurable impact.\n",
    "\n",
    "Question:\n",
    "{question}\n",
    "\n",
    "Answer:\n",
    "{answer}\n",
    "\n",
    "Please evaluate the response in the following aspects:\n",
    "0. Ensure the time to tell the whole story is 3-5 mins\n",
    "1. Does the answer follow the STAR format (Situation, Task, Action, Result)?\n",
    "2. Does the response demonstrate senior-level behaviors such as:\n",
    "   - Leadership and initiative\n",
    "   - Influence across teams or functions\n",
    "   - Strategic problem-solving\n",
    "   - Clear and measurable outcomes\n",
    "3. Is the language clear, concise, and persuasive?\n",
    "4. Provide constructive feedback on how the answer could be improved\n",
    "5. Rewrite an improved version of the answer, maintaining the original facts but enhancing structure, clarity, and leadership tone\n",
    "\n",
    "Please:\n",
    "1. Provide a brief summary in Chinese to call out the pros and cons;\n",
    "2. Respond in English with a clear, structured and more detailed feedback.\n",
    "\n",
    "\"\"\""
   ]
  },
  {
   "cell_type": "code",
   "execution_count": 18,
   "metadata": {},
   "outputs": [],
   "source": [
    "# Step 4: Call OpenAI's ChatCompletion API to analyze and optimize the answer\n",
    "def evaluate_behavior_answer(question, answer, model=\"gpt-4o\"):\n",
    "    prompt = build_prompt(question, answer)\n",
    "    response = client.complete(\n",
    "        messages=[\n",
    "            {\n",
    "                \"role\": \"system\",\n",
    "                \"content\": \"You are a senior technical interviewer for L5-L6 roles in top tech companies. \\\n",
    "                    You evaluate behavioral interview answers with high expectations around leadership, \\\n",
    "                        cross-functional collaboration, and strategic thinking.\",\n",
    "            },\n",
    "            {\n",
    "                \"role\": \"user\",\n",
    "                \"content\": prompt,\n",
    "            },\n",
    "        ],\n",
    "        model=model_name,\n",
    "        temperature=0.7,\n",
    "    )\n",
    "    return response['choices'][0]['message']['content']"
   ]
  },
  {
   "cell_type": "code",
   "execution_count": 20,
   "metadata": {},
   "outputs": [
    {
     "name": "stdout",
     "output_type": "stream",
     "text": [
      "\n",
      "--- Interviewer Feedback & Suggested Improvements ---\n",
      "\n",
      "**Summary in Chinese:**\n",
      "\n",
      "这位候选人的回答触及了解决困难团队成员的问题，但总体表现缺乏高级别职位所预期的领导力、跨团队影响力、战略性问题解决能力以及明确和可量化的结果。优点在于候选人展示了主动性，通过1:1沟通解决问题。然而，回答的细节不足，缺乏对影响范围的清晰说明，也没有展示更广泛的战略思考或显著的业务影响。改进建议包括更明确的STAR结构、更强的领导力语气以及对结果的量化描述。\n",
      "\n",
      "---\n",
      "\n",
      "**Detailed Feedback in English:**\n",
      "\n",
      "1. **Does the answer follow the STAR format?**\n",
      "   - **Situation:** The candidate briefly describes a teammate failing to respond to messages, causing project delays. However, the situation lacks sufficient context (e.g., what the project was, why timely communication was critical, and the urgency or stakes involved).\n",
      "   - **Task:** The task is implied as the need to address the teammate’s lack of responsiveness and ensure the project’s timely completion, but it is not explicitly stated.\n",
      "   - **Action:** The candidate mentions scheduling a 1:1, identifying personal issues, redistributing responsibilities, and increasing check-ins. While these are reasonable actions, they lack strategic depth or evidence of broader influence.\n",
      "   - **Result:** The result is stated as completing the project on time, but it is vague and not quantified (e.g., how much delay was mitigated, or what the impact of completion was on the business or team).\n",
      "\n",
      "2. **Does the response demonstrate senior-level behaviors?**\n",
      "   - **Leadership and Initiative:** The candidate shows some initiative by scheduling the 1:1 and addressing the problem, but this is more indicative of mid-level ownership. Senior-level candidates are expected to exhibit broader leadership, such as anticipating systemic issues or influencing team dynamics more broadly.\n",
      "   - **Influence Across Teams or Functions:** The answer is narrow in scope and does not demonstrate cross-functional influence or collaboration.\n",
      "   - **Strategic Problem-Solving:** The resolution appears tactical (redistributing tasks and increasing check-ins) rather than strategic. For example, the candidate could have addressed underlying systemic issues or implemented process improvements to prevent similar challenges.\n",
      "   - **Clear and Measurable Outcomes:** The result is vague and lacks data or metrics to highlight impact. Senior candidates should articulate measurable outcomes (e.g., saved X weeks of delay, improved team productivity by Y%).\n",
      "\n",
      "3. **Is the language clear, concise, and persuasive?**\n",
      "   - The language is clear but lacks senior-level confidence and persuasion. Phrases like \"I proactively scheduled a 1:1\" and \"found out he was dealing with personal issues\" are functional but not impactful. The tone could better reflect ownership, leadership, and the ability to drive outcomes.\n",
      "\n",
      "4. **Constructive Feedback:**\n",
      "   - Add more context to the situation (e.g., describe the project, its importance, and the stakes).\n",
      "   - Explicitly state the task to show clarity of responsibility.\n",
      "   - Expand the scope of actions to include strategic steps, such as identifying systemic issues or collaborating with other leaders to mitigate risks.\n",
      "   - Quantify the results to demonstrate measurable impact.\n",
      "   - Use language that reflects senior-level confidence and leadership.\n",
      "\n",
      "5. **Rewritten Improved Answer:**\n",
      "\n",
      "*\"In a recent project to launch a critical feature with a tight three-month deadline, I noticed a key teammate was consistently unresponsive, causing delays in deliverables and risking the timeline. Recognizing the potential impact on the broader team, I took the initiative to schedule a 1:1 to understand the root cause. Through the conversation, I learned he was dealing with personal challenges that were affecting his focus and availability. \n",
      "\n",
      "To address the issue, I proposed a short-term redistribution of his critical tasks among the team, ensuring that deliverables remained on track. I also implemented weekly check-ins with him to provide ongoing support and maintain visibility into his progress. Additionally, I escalated the situation to my manager and recommended bringing in temporary support for the high-priority tasks, ensuring the team's overall productivity wasn't compromised.\n",
      "\n",
      "As a result, we not only completed the project two weeks ahead of schedule but also strengthened team morale by fostering a culture of support and collaboration. This experience led me to propose a formalized escalation and support process for similar challenges in future projects, which was adopted across the engineering organization.\"*\n",
      "\n",
      "---\n",
      "\n",
      "**Why This Version is Better:**\n",
      "- **STAR Format:** Clearly follows the structure by describing the situation, task, action, and result.\n",
      "- **Leadership and Initiative:** Shows proactive leadership in addressing the issue and escalating it when needed.\n",
      "- **Strategic Thinking:** Highlights broader implications for the team and proposes systemic improvements.\n",
      "- **Measurable Outcomes:** Includes a quantified result (\"two weeks ahead of schedule\") and additional benefits (team morale and process improvements).\n",
      "- **Language:** Uses confident and senior-level tone with phrases like \"recognized the potential impact,\" \"proposed a short-term redistribution,\" and \"fostering a culture of support.\"\n"
     ]
    }
   ],
   "source": [
    "# Step 5: Example usage\n",
    "# question = \"Tell me about a time you had to handle a difficult teammate.\"\n",
    "# answer = \"Once I worked with a teammate who frequently failed to respond to messages, which delayed our project's progress. I proactively scheduled a 1:1 to understand the root cause and found out he was dealing with personal issues. I reorganized some of our responsibilities and increased check-ins, and as a result, we completed the project on time.\"\n",
    "\n",
    "target_role = input(\"Please enter your target interview role (e.g., 'Senior Backend Engineer at Stripe'): \")\n",
    "question = input(\"Please enter the interview question: \")\n",
    "answer = input(\"Please enter your answer: \")\n",
    "\n",
    "feedback = evaluate_behavior_answer(question, answer, target_role)\n",
    "print(\"\\n--- Interviewer Feedback & Suggested Improvements ---\\n\")\n",
    "print(feedback)"
   ]
  }
 ],
 "metadata": {
  "kernelspec": {
   "display_name": "Python 3",
   "language": "python",
   "name": "python3"
  },
  "language_info": {
   "codemirror_mode": {
    "name": "ipython",
    "version": 3
   },
   "file_extension": ".py",
   "mimetype": "text/x-python",
   "name": "python",
   "nbconvert_exporter": "python",
   "pygments_lexer": "ipython3",
   "version": "3.13.3"
  }
 },
 "nbformat": 4,
 "nbformat_minor": 2
}
